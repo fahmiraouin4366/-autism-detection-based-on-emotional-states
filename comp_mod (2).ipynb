{
 "cells": [
  {
   "cell_type": "code",
   "execution_count": 138,
   "id": "1e6a9af6",
   "metadata": {},
   "outputs": [
    {
     "data": {
      "text/html": [
       "<div>\n",
       "<style scoped>\n",
       "    .dataframe tbody tr th:only-of-type {\n",
       "        vertical-align: middle;\n",
       "    }\n",
       "\n",
       "    .dataframe tbody tr th {\n",
       "        vertical-align: top;\n",
       "    }\n",
       "\n",
       "    .dataframe thead th {\n",
       "        text-align: right;\n",
       "    }\n",
       "</style>\n",
       "<table border=\"1\" class=\"dataframe\">\n",
       "  <thead>\n",
       "    <tr style=\"text-align: right;\">\n",
       "      <th></th>\n",
       "      <th>Angry</th>\n",
       "      <th>Disgusted</th>\n",
       "      <th>Fearful</th>\n",
       "      <th>Happy</th>\n",
       "      <th>Neutral</th>\n",
       "      <th>Sad</th>\n",
       "      <th>Surprised</th>\n",
       "    </tr>\n",
       "  </thead>\n",
       "  <tbody>\n",
       "    <tr>\n",
       "      <th>0</th>\n",
       "      <td>0</td>\n",
       "      <td>0</td>\n",
       "      <td>1</td>\n",
       "      <td>0</td>\n",
       "      <td>0</td>\n",
       "      <td>0</td>\n",
       "      <td>0</td>\n",
       "    </tr>\n",
       "    <tr>\n",
       "      <th>1</th>\n",
       "      <td>0</td>\n",
       "      <td>0</td>\n",
       "      <td>0</td>\n",
       "      <td>0</td>\n",
       "      <td>1</td>\n",
       "      <td>0</td>\n",
       "      <td>0</td>\n",
       "    </tr>\n",
       "    <tr>\n",
       "      <th>2</th>\n",
       "      <td>0</td>\n",
       "      <td>0</td>\n",
       "      <td>0</td>\n",
       "      <td>0</td>\n",
       "      <td>1</td>\n",
       "      <td>0</td>\n",
       "      <td>0</td>\n",
       "    </tr>\n",
       "    <tr>\n",
       "      <th>3</th>\n",
       "      <td>0</td>\n",
       "      <td>0</td>\n",
       "      <td>0</td>\n",
       "      <td>0</td>\n",
       "      <td>1</td>\n",
       "      <td>0</td>\n",
       "      <td>0</td>\n",
       "    </tr>\n",
       "    <tr>\n",
       "      <th>4</th>\n",
       "      <td>0</td>\n",
       "      <td>0</td>\n",
       "      <td>0</td>\n",
       "      <td>0</td>\n",
       "      <td>1</td>\n",
       "      <td>0</td>\n",
       "      <td>0</td>\n",
       "    </tr>\n",
       "    <tr>\n",
       "      <th>...</th>\n",
       "      <td>...</td>\n",
       "      <td>...</td>\n",
       "      <td>...</td>\n",
       "      <td>...</td>\n",
       "      <td>...</td>\n",
       "      <td>...</td>\n",
       "      <td>...</td>\n",
       "    </tr>\n",
       "    <tr>\n",
       "      <th>95</th>\n",
       "      <td>0</td>\n",
       "      <td>0</td>\n",
       "      <td>0</td>\n",
       "      <td>0</td>\n",
       "      <td>1</td>\n",
       "      <td>0</td>\n",
       "      <td>0</td>\n",
       "    </tr>\n",
       "    <tr>\n",
       "      <th>96</th>\n",
       "      <td>0</td>\n",
       "      <td>0</td>\n",
       "      <td>0</td>\n",
       "      <td>0</td>\n",
       "      <td>1</td>\n",
       "      <td>0</td>\n",
       "      <td>0</td>\n",
       "    </tr>\n",
       "    <tr>\n",
       "      <th>97</th>\n",
       "      <td>0</td>\n",
       "      <td>0</td>\n",
       "      <td>0</td>\n",
       "      <td>0</td>\n",
       "      <td>1</td>\n",
       "      <td>0</td>\n",
       "      <td>0</td>\n",
       "    </tr>\n",
       "    <tr>\n",
       "      <th>98</th>\n",
       "      <td>0</td>\n",
       "      <td>0</td>\n",
       "      <td>0</td>\n",
       "      <td>0</td>\n",
       "      <td>1</td>\n",
       "      <td>0</td>\n",
       "      <td>0</td>\n",
       "    </tr>\n",
       "    <tr>\n",
       "      <th>99</th>\n",
       "      <td>0</td>\n",
       "      <td>0</td>\n",
       "      <td>1</td>\n",
       "      <td>0</td>\n",
       "      <td>0</td>\n",
       "      <td>0</td>\n",
       "      <td>0</td>\n",
       "    </tr>\n",
       "  </tbody>\n",
       "</table>\n",
       "<p>100 rows × 7 columns</p>\n",
       "</div>"
      ],
      "text/plain": [
       "    Angry  Disgusted  Fearful  Happy  Neutral  Sad  Surprised\n",
       "0       0          0        1      0        0    0          0\n",
       "1       0          0        0      0        1    0          0\n",
       "2       0          0        0      0        1    0          0\n",
       "3       0          0        0      0        1    0          0\n",
       "4       0          0        0      0        1    0          0\n",
       "..    ...        ...      ...    ...      ...  ...        ...\n",
       "95      0          0        0      0        1    0          0\n",
       "96      0          0        0      0        1    0          0\n",
       "97      0          0        0      0        1    0          0\n",
       "98      0          0        0      0        1    0          0\n",
       "99      0          0        1      0        0    0          0\n",
       "\n",
       "[100 rows x 7 columns]"
      ]
     },
     "execution_count": 138,
     "metadata": {},
     "output_type": "execute_result"
    }
   ],
   "source": [
    "#importer le fichier de la résultat obtenu\n",
    "import pandas as pd\n",
    "import matplotlib.pyplot as plt\n",
    "data=pd.read_excel(\"mahrantom (1).xlsx\")\n",
    "data=data.iloc[:,2:9]\n",
    "data"
   ]
  },
  {
   "cell_type": "code",
   "execution_count": null,
   "id": "691c3e06",
   "metadata": {},
   "outputs": [],
   "source": [
    "\n"
   ]
  },
  {
   "cell_type": "code",
   "execution_count": 144,
   "id": "56768b0c",
   "metadata": {},
   "outputs": [
    {
     "data": {
      "text/plain": [
       "100"
      ]
     },
     "execution_count": 144,
     "metadata": {},
     "output_type": "execute_result"
    }
   ],
   "source": [
    "#création de deux listes l qui contient les classes obtenus et m contient les indices \n",
    "l=[]\n",
    "m=[]\n",
    "for j in range(len(data.index)):\n",
    "    for i in data:\n",
    "        if data[i][j]:\n",
    "            l.append(i)\n",
    "            m.append(j)\n",
    "len(l)"
   ]
  },
  {
   "cell_type": "code",
   "execution_count": 89,
   "id": "d66fe0fe",
   "metadata": {},
   "outputs": [
    {
     "data": {
      "text/plain": [
       "[<matplotlib.lines.Line2D at 0x24aede0a1f0>]"
      ]
     },
     "execution_count": 89,
     "metadata": {},
     "output_type": "execute_result"
    },
    {
     "data": {
      "image/png": "[encoded data removed]",
      "text/plain": [
       "<Figure size 432x288 with 1 Axes>"
      ]
     },
     "metadata": {
      "needs_background": "light"
     },
     "output_type": "display_data"
    }
   ],
   "source": [
    "#Afficher la courbe obtenu\n",
    "plt.plot(m,l)"
   ]
  },
  {
   "cell_type": "code",
   "execution_count": 90,
   "id": "9d7da3ce",
   "metadata": {},
   "outputs": [],
   "source": []
  },
  {
   "cell_type": "code",
   "execution_count": 91,
   "id": "a769da2c",
   "metadata": {},
   "outputs": [
    {
     "data": {
      "text/html": [
       "<div>\n",
       "<style scoped>\n",
       "    .dataframe tbody tr th:only-of-type {\n",
       "        vertical-align: middle;\n",
       "    }\n",
       "\n",
       "    .dataframe tbody tr th {\n",
       "        vertical-align: top;\n",
       "    }\n",
       "\n",
       "    .dataframe thead th {\n",
       "        text-align: right;\n",
       "    }\n",
       "</style>\n",
       "<table border=\"1\" class=\"dataframe\">\n",
       "  <thead>\n",
       "    <tr style=\"text-align: right;\">\n",
       "      <th></th>\n",
       "      <th>Angry</th>\n",
       "      <th>Disgusted</th>\n",
       "      <th>Fearful</th>\n",
       "      <th>Happy</th>\n",
       "      <th>Neutral</th>\n",
       "      <th>Sad</th>\n",
       "      <th>Surprised</th>\n",
       "    </tr>\n",
       "  </thead>\n",
       "  <tbody>\n",
       "    <tr>\n",
       "      <th>0</th>\n",
       "      <td>0</td>\n",
       "      <td>0</td>\n",
       "      <td>0</td>\n",
       "      <td>0</td>\n",
       "      <td>1</td>\n",
       "      <td>0</td>\n",
       "      <td>0</td>\n",
       "    </tr>\n",
       "    <tr>\n",
       "      <th>1</th>\n",
       "      <td>0</td>\n",
       "      <td>0</td>\n",
       "      <td>0</td>\n",
       "      <td>0</td>\n",
       "      <td>1</td>\n",
       "      <td>0</td>\n",
       "      <td>0</td>\n",
       "    </tr>\n",
       "    <tr>\n",
       "      <th>2</th>\n",
       "      <td>0</td>\n",
       "      <td>0</td>\n",
       "      <td>0</td>\n",
       "      <td>0</td>\n",
       "      <td>1</td>\n",
       "      <td>0</td>\n",
       "      <td>0</td>\n",
       "    </tr>\n",
       "    <tr>\n",
       "      <th>3</th>\n",
       "      <td>0</td>\n",
       "      <td>0</td>\n",
       "      <td>0</td>\n",
       "      <td>0</td>\n",
       "      <td>1</td>\n",
       "      <td>0</td>\n",
       "      <td>0</td>\n",
       "    </tr>\n",
       "    <tr>\n",
       "      <th>4</th>\n",
       "      <td>0</td>\n",
       "      <td>0</td>\n",
       "      <td>0</td>\n",
       "      <td>0</td>\n",
       "      <td>1</td>\n",
       "      <td>0</td>\n",
       "      <td>0</td>\n",
       "    </tr>\n",
       "    <tr>\n",
       "      <th>...</th>\n",
       "      <td>...</td>\n",
       "      <td>...</td>\n",
       "      <td>...</td>\n",
       "      <td>...</td>\n",
       "      <td>...</td>\n",
       "      <td>...</td>\n",
       "      <td>...</td>\n",
       "    </tr>\n",
       "    <tr>\n",
       "      <th>63</th>\n",
       "      <td>0</td>\n",
       "      <td>0</td>\n",
       "      <td>0</td>\n",
       "      <td>0</td>\n",
       "      <td>1</td>\n",
       "      <td>0</td>\n",
       "      <td>0</td>\n",
       "    </tr>\n",
       "    <tr>\n",
       "      <th>64</th>\n",
       "      <td>0</td>\n",
       "      <td>0</td>\n",
       "      <td>0</td>\n",
       "      <td>0</td>\n",
       "      <td>1</td>\n",
       "      <td>0</td>\n",
       "      <td>0</td>\n",
       "    </tr>\n",
       "    <tr>\n",
       "      <th>65</th>\n",
       "      <td>0</td>\n",
       "      <td>0</td>\n",
       "      <td>0</td>\n",
       "      <td>0</td>\n",
       "      <td>1</td>\n",
       "      <td>0</td>\n",
       "      <td>0</td>\n",
       "    </tr>\n",
       "    <tr>\n",
       "      <th>66</th>\n",
       "      <td>0</td>\n",
       "      <td>0</td>\n",
       "      <td>0</td>\n",
       "      <td>0</td>\n",
       "      <td>1</td>\n",
       "      <td>0</td>\n",
       "      <td>0</td>\n",
       "    </tr>\n",
       "    <tr>\n",
       "      <th>67</th>\n",
       "      <td>0</td>\n",
       "      <td>0</td>\n",
       "      <td>0</td>\n",
       "      <td>1</td>\n",
       "      <td>0</td>\n",
       "      <td>0</td>\n",
       "      <td>0</td>\n",
       "    </tr>\n",
       "  </tbody>\n",
       "</table>\n",
       "<p>68 rows × 7 columns</p>\n",
       "</div>"
      ],
      "text/plain": [
       "    Angry  Disgusted  Fearful  Happy  Neutral  Sad  Surprised\n",
       "0       0          0        0      0        1    0          0\n",
       "1       0          0        0      0        1    0          0\n",
       "2       0          0        0      0        1    0          0\n",
       "3       0          0        0      0        1    0          0\n",
       "4       0          0        0      0        1    0          0\n",
       "..    ...        ...      ...    ...      ...  ...        ...\n",
       "63      0          0        0      0        1    0          0\n",
       "64      0          0        0      0        1    0          0\n",
       "65      0          0        0      0        1    0          0\n",
       "66      0          0        0      0        1    0          0\n",
       "67      0          0        0      1        0    0          0\n",
       "\n",
       "[68 rows x 7 columns]"
      ]
     },
     "execution_count": 91,
     "metadata": {},
     "output_type": "execute_result"
    }
   ],
   "source": [
    "import pandas as pd\n",
    "data1=pd.read_excel(\"fahmitom.xlsx\")\n",
    "data1=data1.iloc[:,2:9]\n",
    "data1"
   ]
  },
  {
   "cell_type": "code",
   "execution_count": 92,
   "id": "e87c8a38",
   "metadata": {},
   "outputs": [
    {
     "data": {
      "text/plain": [
       "70"
      ]
     },
     "execution_count": 92,
     "metadata": {},
     "output_type": "execute_result"
    }
   ],
   "source": [
    "l1=[]\n",
    "m1=[]\n",
    "for j in range(len(data1.index)):\n",
    "    for i in data1:\n",
    "        if data1[i][j]:\n",
    "            l1.append(i)\n",
    "            m1.append(j)\n",
    "len(l1)"
   ]
  },
  {
   "cell_type": "code",
   "execution_count": 93,
   "id": "eb1be9c5",
   "metadata": {},
   "outputs": [
    {
     "data": {
      "text/plain": [
       "[<matplotlib.lines.Line2D at 0x24aeddb28b0>]"
      ]
     },
     "execution_count": 93,
     "metadata": {},
     "output_type": "execute_result"
    },
    {
     "data": {
      "image/png": "[encoded data removed]",
      "text/plain": [
       "<Figure size 432x288 with 1 Axes>"
      ]
     },
     "metadata": {
      "needs_background": "light"
     },
     "output_type": "display_data"
    }
   ],
   "source": [
    "plt.plot(m1,l1)"
   ]
  },
  {
   "cell_type": "code",
   "execution_count": 94,
   "id": "42f2de64",
   "metadata": {},
   "outputs": [
    {
     "data": {
      "text/plain": [
       "[<matplotlib.lines.Line2D at 0x24aede66400>]"
      ]
     },
     "execution_count": 94,
     "metadata": {},
     "output_type": "execute_result"
    },
    {
     "data": {
      "image/png": "[encoded data removed]",
      "text/plain": [
       "<Figure size 432x288 with 1 Axes>"
      ]
     },
     "metadata": {
      "needs_background": "light"
     },
     "output_type": "display_data"
    }
   ],
   "source": [
    "plt.plot(m,l)\n",
    "plt.plot(m1,l1)"
   ]
  },
  {
   "cell_type": "code",
   "execution_count": 113,
   "id": "e01ac3e9",
   "metadata": {},
   "outputs": [
    {
     "name": "stdout",
     "output_type": "stream",
     "text": [
      "count= 43\n",
      "score = 61.42857142857143\n",
      "Autism\n"
     ]
    }
   ],
   "source": []
  },
  {
   "cell_type": "code",
   "execution_count": 96,
   "id": "5d435c19",
   "metadata": {},
   "outputs": [
    {
     "data": {
      "text/plain": [
       "[<matplotlib.lines.Line2D at 0x24aededf220>]"
      ]
     },
     "execution_count": 96,
     "metadata": {},
     "output_type": "execute_result"
    },
    {
     "data": {
      "image/png": "[encoded data removed]",
      "text/plain": [
       "<Figure size 432x288 with 1 Axes>"
      ]
     },
     "metadata": {
      "needs_background": "light"
     },
     "output_type": "display_data"
    }
   ],
   "source": [
    "plt.plot(l)"
   ]
  },
  {
   "cell_type": "code",
   "execution_count": 97,
   "id": "33147572",
   "metadata": {},
   "outputs": [],
   "source": []
  },
  {
   "cell_type": "code",
   "execution_count": 98,
   "id": "648221ad",
   "metadata": {
    "scrolled": true
   },
   "outputs": [
    {
     "name": "stdout",
     "output_type": "stream",
     "text": [
      "34\n",
      "[['Fearful', 'Neutral', 'Neutral'], ['Neutral', 'Neutral', 'Neutral'], ['Neutral', 'Neutral', 'Neutral'], ['Neutral', 'Neutral', 'Neutral'], ['Neutral', 'Neutral', 'Neutral'], ['Neutral', 'Neutral', 'Neutral'], ['Neutral', 'Neutral', 'Happy'], ['Happy', 'Neutral', 'Happy'], ['Happy', 'Neutral', 'Happy'], ['Neutral', 'Happy', 'Neutral'], ['Neutral', 'Neutral', 'Neutral'], ['Happy', 'Happy', 'Happy'], ['Happy', 'Happy', 'Happy'], ['Happy', 'Happy', 'Happy'], ['Happy', 'Happy', 'Happy'], ['Happy', 'Happy', 'Neutral'], ['Happy', 'Neutral', 'Neutral'], ['Neutral', 'Neutral', 'Neutral'], ['Neutral', 'Neutral', 'Neutral'], ['Neutral', 'Neutral', 'Neutral'], ['Neutral', 'Sad', 'Neutral'], ['Neutral', 'Neutral', 'Neutral'], ['Neutral', 'Neutral', 'Fearful'], ['Fearful', 'Sad', 'Neutral'], ['Neutral', 'Fearful', 'Neutral'], ['Neutral', 'Neutral', 'Neutral'], ['Neutral', 'Neutral', 'Neutral'], ['Neutral', 'Neutral', 'Neutral'], ['Neutral', 'Neutral', 'Neutral'], ['Fearful', 'Neutral', 'Neutral'], ['Neutral', 'Fearful', 'Fearful'], ['Neutral', 'Neutral', 'Neutral'], ['Neutral', 'Neutral', 'Neutral'], ['Fearful']]\n"
     ]
    }
   ],
   "source": [
    "#diviser la liste en plussieurs liste chaque liste contienne 3 classes\n",
    "from itertools import islice\n",
    "nbre=len(l)//3\n",
    "length_to_split = [len(l)//(nbre)]*(nbre+1)\n",
    "lst = iter(l)\n",
    "Output = [list(islice(lst, elem))\n",
    "          for elem in length_to_split]\n",
    "\n",
    "print(len(Output))\n",
    "print(Output)"
   ]
  },
  {
   "cell_type": "code",
   "execution_count": 145,
   "id": "26f39ef9",
   "metadata": {},
   "outputs": [
    {
     "data": {
      "text/plain": [
       "['Neutral',\n",
       " 'Neutral',\n",
       " 'Neutral',\n",
       " 'Neutral',\n",
       " 'Neutral',\n",
       " 'Neutral',\n",
       " 'Neutral',\n",
       " 'Neutral',\n",
       " 'Neutral',\n",
       " 'Neutral',\n",
       " 'Neutral',\n",
       " 'Neutral',\n",
       " 'Neutral',\n",
       " 'Neutral',\n",
       " 'Neutral',\n",
       " 'Neutral',\n",
       " 'Neutral',\n",
       " 'Neutral',\n",
       " 'Neutral',\n",
       " 'Neutral',\n",
       " 'Neutral',\n",
       " 'Happy',\n",
       " 'Happy',\n",
       " 'Happy',\n",
       " 'Happy',\n",
       " 'Happy',\n",
       " 'Happy',\n",
       " 'Neutral',\n",
       " 'Neutral',\n",
       " 'Neutral',\n",
       " 'Neutral',\n",
       " 'Neutral',\n",
       " 'Neutral',\n",
       " 'Happy',\n",
       " 'Happy',\n",
       " 'Happy',\n",
       " 'Happy',\n",
       " 'Happy',\n",
       " 'Happy',\n",
       " 'Happy',\n",
       " 'Happy',\n",
       " 'Happy',\n",
       " 'Happy',\n",
       " 'Happy',\n",
       " 'Happy',\n",
       " 'Happy',\n",
       " 'Happy',\n",
       " 'Happy',\n",
       " 'Neutral',\n",
       " 'Neutral',\n",
       " 'Neutral',\n",
       " 'Neutral',\n",
       " 'Neutral',\n",
       " 'Neutral',\n",
       " 'Neutral',\n",
       " 'Neutral',\n",
       " 'Neutral',\n",
       " 'Neutral',\n",
       " 'Neutral',\n",
       " 'Neutral',\n",
       " 'Neutral',\n",
       " 'Neutral',\n",
       " 'Neutral',\n",
       " 'Neutral',\n",
       " 'Neutral',\n",
       " 'Neutral',\n",
       " 'Neutral',\n",
       " 'Neutral',\n",
       " 'Neutral',\n",
       " 'Fearful',\n",
       " 'Fearful',\n",
       " 'Fearful',\n",
       " 'Neutral',\n",
       " 'Neutral',\n",
       " 'Neutral',\n",
       " 'Neutral',\n",
       " 'Neutral',\n",
       " 'Neutral',\n",
       " 'Neutral',\n",
       " 'Neutral',\n",
       " 'Neutral',\n",
       " 'Neutral',\n",
       " 'Neutral',\n",
       " 'Neutral',\n",
       " 'Neutral',\n",
       " 'Neutral',\n",
       " 'Neutral',\n",
       " 'Neutral',\n",
       " 'Neutral',\n",
       " 'Neutral',\n",
       " 'Fearful',\n",
       " 'Fearful',\n",
       " 'Fearful',\n",
       " 'Neutral',\n",
       " 'Neutral',\n",
       " 'Neutral',\n",
       " 'Neutral',\n",
       " 'Neutral',\n",
       " 'Neutral',\n",
       " 'Fearful']"
      ]
     },
     "execution_count": 145,
     "metadata": {},
     "output_type": "execute_result"
    }
   ],
   "source": [
    "#On a fait un vote majoritaire dans chaque liste \n",
    "#cette méthode permet de minimiser les impulsions dans la courbe\n",
    "from collections import Counter\n",
    "final= []\n",
    "for i in Output:\n",
    "    tall=len(i)\n",
    "    for j in range(tall):\n",
    "            final.append(Counter(i).most_common()[0][0])\n",
    "final\n"
   ]
  },
  {
   "cell_type": "code",
   "execution_count": 100,
   "id": "dd9d3b66",
   "metadata": {},
   "outputs": [
    {
     "data": {
      "text/plain": [
       "[<matplotlib.lines.Line2D at 0x24aedf34610>]"
      ]
     },
     "execution_count": 100,
     "metadata": {},
     "output_type": "execute_result"
    },
    {
     "data": {
      "image/png": "[encoded data removed]",
      "text/plain": [
       "<Figure size 432x288 with 1 Axes>"
      ]
     },
     "metadata": {
      "needs_background": "light"
     },
     "output_type": "display_data"
    }
   ],
   "source": [
    "#la résultat obtenu avant faire le filtre\n",
    "plt.plot(m,l)"
   ]
  },
  {
   "cell_type": "code",
   "execution_count": 101,
   "id": "69433344",
   "metadata": {},
   "outputs": [
    {
     "data": {
      "text/plain": [
       "[<matplotlib.lines.Line2D at 0x24aedf76e80>]"
      ]
     },
     "execution_count": 101,
     "metadata": {},
     "output_type": "execute_result"
    },
    {
     "data": {
      "image/png": "[encoded data removed]",
      "text/plain": [
       "<Figure size 432x288 with 1 Axes>"
      ]
     },
     "metadata": {
      "needs_background": "light"
     },
     "output_type": "display_data"
    }
   ],
   "source": [
    "#la résultat obtenu aprés faire le filtre\n",
    "plt.plot(m,final)"
   ]
  },
  {
   "cell_type": "code",
   "execution_count": 102,
   "id": "54fd9a97",
   "metadata": {},
   "outputs": [
    {
     "name": "stdout",
     "output_type": "stream",
     "text": [
      "34\n",
      "[['Neutral', 'Neutral', 'Neutral'], ['Neutral', 'Neutral', 'Neutral'], ['Neutral', 'Neutral', 'Neutral'], ['Happy', 'Neutral', 'Neutral'], ['Happy', 'Neutral', 'Happy'], ['Neutral', 'Neutral', 'Neutral'], ['Neutral', 'Neutral', 'Neutral'], ['Neutral', 'Neutral', 'Neutral'], ['Neutral', 'Neutral', 'Neutral'], ['Neutral', 'Happy', 'Neutral'], ['Happy', 'Happy', 'Happy'], ['Happy', 'Happy', 'Happy'], ['Happy', 'Happy', 'Neutral'], ['Neutral', 'Neutral', 'Neutral'], ['Happy', 'Happy', 'Happy'], ['Happy', 'Happy', 'Angry'], ['Happy', 'Neutral', 'Neutral'], ['Happy', 'Happy', 'Happy'], ['Happy', 'Neutral', 'Happy'], ['Angry', 'Neutral', 'Neutral'], ['Neutral', 'Neutral', 'Neutral'], ['Angry', 'Neutral', 'Neutral'], ['Neutral', 'Neutral', 'Neutral'], ['Happy'], [], [], [], [], [], [], [], [], [], []]\n"
     ]
    }
   ],
   "source": [
    "nbre1=len(l1)//3\n",
    "length_to_split = [len(l1)//(nbre1)]*(nbre+1)\n",
    "lst = iter(l1)\n",
    "Output1 = [list(islice(lst, elem))\n",
    "          for elem in length_to_split]\n",
    "\n",
    "print(len(Output1))\n",
    "print(Output1)"
   ]
  },
  {
   "cell_type": "code",
   "execution_count": 103,
   "id": "83de68bc",
   "metadata": {},
   "outputs": [
    {
     "data": {
      "text/plain": [
       "70"
      ]
     },
     "execution_count": 103,
     "metadata": {},
     "output_type": "execute_result"
    }
   ],
   "source": [
    "from collections import Counter\n",
    "final1= []\n",
    "for i in Output1:\n",
    "    tall1=len(i)\n",
    "    for j in range(tall1):\n",
    "            final1.append(Counter(i).most_common()[0][0])\n",
    "final1\n",
    "len(final1)\n"
   ]
  },
  {
   "cell_type": "code",
   "execution_count": 104,
   "id": "7dc5b648",
   "metadata": {},
   "outputs": [
    {
     "data": {
      "text/plain": [
       "[<matplotlib.lines.Line2D at 0x24aedfdcca0>]"
      ]
     },
     "execution_count": 104,
     "metadata": {},
     "output_type": "execute_result"
    },
    {
     "data": {
      "image/png": "[encoded data removed]",
      "text/plain": [
       "<Figure size 432x288 with 1 Axes>"
      ]
     },
     "metadata": {
      "needs_background": "light"
     },
     "output_type": "display_data"
    }
   ],
   "source": [
    "plt.plot(m1,l1)"
   ]
  },
  {
   "cell_type": "code",
   "execution_count": 105,
   "id": "9c3fefaa",
   "metadata": {},
   "outputs": [
    {
     "data": {
      "text/plain": [
       "[<matplotlib.lines.Line2D at 0x24aee037be0>]"
      ]
     },
     "execution_count": 105,
     "metadata": {},
     "output_type": "execute_result"
    },
    {
     "data": {
      "image/png": "[encoded data removed]",
      "text/plain": [
       "<Figure size 432x288 with 1 Axes>"
      ]
     },
     "metadata": {
      "needs_background": "light"
     },
     "output_type": "display_data"
    }
   ],
   "source": [
    "plt.plot(m1,final1)"
   ]
  },
  {
   "cell_type": "code",
   "execution_count": 114,
   "id": "5460b5a8",
   "metadata": {},
   "outputs": [
    {
     "name": "stdout",
     "output_type": "stream",
     "text": [
      "count= 48\n",
      "score = 68.57142857142857\n",
      "No Autism\n"
     ]
    }
   ],
   "source": [
    "#comparer les 2 resultat obtenu, la résultat d'un enfant normal et un enfant inconnu\n",
    "\"\"\"si les réactions de deux enfants dans les méme frame sont égaux en considére que\n",
    "l'enfant inconnu est un enfant normal, sinon autiste\"\"\"\n",
    "count=0\n",
    "x=0\n",
    "if len(final)<len(final1):\n",
    "    x=final\n",
    "else:\n",
    "    x=final1\n",
    "for i in range(len(x)):\n",
    "    if final[i]==final1[i]:\n",
    "        count =count +1\n",
    "print(\"count=\",count)\n",
    "score=(count/len(x))*100\n",
    "print(\"score =\",score)\n",
    "if score<65:\n",
    "    print(\"Autism\")\n",
    "else:\n",
    "    print(\"No Autism\")"
   ]
  },
  {
   "cell_type": "code",
   "execution_count": 109,
   "id": "b82c862f",
   "metadata": {},
   "outputs": [
    {
     "data": {
      "text/plain": [
       "[<matplotlib.lines.Line2D at 0x24aee138040>]"
      ]
     },
     "execution_count": 109,
     "metadata": {},
     "output_type": "execute_result"
    },
    {
     "data": {
      "image/png": "[encoded data removed]",
      "text/plain": [
       "<Figure size 432x288 with 1 Axes>"
      ]
     },
     "metadata": {
      "needs_background": "light"
     },
     "output_type": "display_data"
    }
   ],
   "source": [
    "plt.plot(m,l)\n",
    "plt.plot(m1,l1)"
   ]
  },
  {
   "cell_type": "code",
   "execution_count": 120,
   "id": "5ad6801e",
   "metadata": {},
   "outputs": [
    {
     "data": {
      "text/plain": [
       "[<matplotlib.lines.Line2D at 0x24aee1eba30>]"
      ]
     },
     "execution_count": 120,
     "metadata": {},
     "output_type": "execute_result"
    },
    {
     "data": {
      "image/png": "[encoded data removed]",
      "text/plain": [
       "<Figure size 432x288 with 1 Axes>"
      ]
     },
     "metadata": {
      "needs_background": "light"
     },
     "output_type": "display_data"
    }
   ],
   "source": [
    "plt.plot(m,final)\n",
    "plt.plot(m1,final1)"
   ]
  },
  {
   "cell_type": "code",
   "execution_count": null,
   "id": "79f69384",
   "metadata": {},
   "outputs": [],
   "source": []
  },
  {
   "cell_type": "code",
   "execution_count": null,
   "id": "30600fdf",
   "metadata": {},
   "outputs": [],
   "source": []
  },
  {
   "cell_type": "code",
   "execution_count": null,
   "id": "ea612dd4",
   "metadata": {},
   "outputs": [],
   "source": []
  },
  {
   "cell_type": "code",
   "execution_count": null,
   "id": "2e3753a4",
   "metadata": {},
   "outputs": [],
   "source": []
  },
  {
   "cell_type": "code",
   "execution_count": null,
   "id": "06798060",
   "metadata": {},
   "outputs": [],
   "source": []
  },
  {
   "cell_type": "code",
   "execution_count": null,
   "id": "0ac036ad",
   "metadata": {},
   "outputs": [],
   "source": []
  },
  {
   "cell_type": "code",
   "execution_count": null,
   "id": "1cfa2dc8",
   "metadata": {},
   "outputs": [],
   "source": []
  },
  {
   "cell_type": "code",
   "execution_count": null,
   "id": "c2901434",
   "metadata": {},
   "outputs": [],
   "source": []
  },
  {
   "cell_type": "code",
   "execution_count": null,
   "id": "2de61fa5",
   "metadata": {},
   "outputs": [],
   "source": []
  }
 ],
 "metadata": {
  "kernelspec": {
   "display_name": "Python 3 (ipykernel)",
   "language": "python",
   "name": "python3"
  },
  "language_info": {
   "codemirror_mode": {
    "name": "ipython",
    "version": 3
   },
   "file_extension": ".py",
   "mimetype": "text/x-python",
   "name": "python",
   "nbconvert_exporter": "python",
   "pygments_lexer": "ipython3",
   "version": "3.9.12"
  }
 },
 "nbformat": 4,
 "nbformat_minor": 5
}
